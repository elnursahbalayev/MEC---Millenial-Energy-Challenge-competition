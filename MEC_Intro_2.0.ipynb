{
 "cells": [
  {
   "cell_type": "markdown",
   "metadata": {
    "ExecuteTime": {
     "end_time": "2021-09-03T08:14:32.094410Z",
     "start_time": "2021-09-03T08:14:32.076408Z"
    },
    "slideshow": {
     "slide_type": "slide"
    }
   },
   "source": [
    "![intro_cover](image_folder/intro_new.PNG)"
   ]
  },
  {
   "cell_type": "markdown",
   "metadata": {
    "slideshow": {
     "slide_type": "slide"
    }
   },
   "source": [
    "# Table of Contents\n",
    "\n",
    "• Business Pain Points\n",
    "\n",
    "• Introduction to Geospatial Analysis\n",
    "\n",
    "• Competition Dataset\n",
    "\n",
    "• Q&A"
   ]
  },
  {
   "cell_type": "markdown",
   "metadata": {
    "slideshow": {
     "slide_type": "slide"
    }
   },
   "source": [
    "# Business Pain Points"
   ]
  },
  {
   "cell_type": "markdown",
   "metadata": {
    "slideshow": {
     "slide_type": "subslide"
    }
   },
   "source": [
    "## Case Study:\n",
    "\n",
    "As a new intern of a logistic company in London, your supervisor has assigned you to a new data science project with the objective of reducing waste (time and fuel expenses) by <u>optimising the route of goods delivery</u>. Thus, the first step towards achieving the goal is to develop a <u> **model for predicting travel time** </u> (which corresponds to monetary value) between two points in London."
   ]
  },
  {
   "cell_type": "markdown",
   "metadata": {
    "ExecuteTime": {
     "end_time": "2021-09-05T05:42:35.015667Z",
     "start_time": "2021-09-05T05:42:34.793520Z"
    },
    "slideshow": {
     "slide_type": "fragment"
    }
   },
   "source": [
    "![travelling_salesman_problem](image_folder/case_study1.jpg)\n",
    "Credit: OptimoRoute (https://optimoroute.com/travelling-salesman-problem/)"
   ]
  },
  {
   "cell_type": "markdown",
   "metadata": {
    "slideshow": {
     "slide_type": "subslide"
    }
   },
   "source": [
    "## Objective\n",
    "\n",
    "To perform data wrangling and develop a machine learning model for estimating the time required to travel between two points in a city."
   ]
  },
  {
   "cell_type": "markdown",
   "metadata": {
    "slideshow": {
     "slide_type": "fragment"
    }
   },
   "source": [
    "![google_map](image_folder/case_study3.PNG)\n",
    "Credit: Google Maps"
   ]
  },
  {
   "cell_type": "markdown",
   "metadata": {
    "slideshow": {
     "slide_type": "slide"
    }
   },
   "source": [
    "# Introduction to Geospatial Analysis"
   ]
  },
  {
   "cell_type": "markdown",
   "metadata": {
    "slideshow": {
     "slide_type": "subslide"
    }
   },
   "source": [
    "## History of Geographic Information Systems (GIS)"
   ]
  },
  {
   "cell_type": "markdown",
   "metadata": {
    "slideshow": {
     "slide_type": "fragment"
    }
   },
   "source": [
    "|||\n",
    "|:--:|:--:|\n",
    "|**1854:** Paper mapping analysis with cholera clusters in London, England by Dr. John Snow. The illustration shows that cholera was being spread along water line, not air as speculated.|![Dr. John](image_folder/John-Snow.PNG) ![cholera map](image_folder/Cholera-Map2.PNG)|\n",
    "|**Before 1960s, The GIS Dark Ages:** Physical maps, which creates bottleneck in analysis (e.g. area and distance measurements, course and inaccurate data) | ![physical map](image_folder/physical_map.PNG)|\n",
    "|**1960 - 75, GIS Pioneering:** Advancements in technology, and first computerized GIS by Roger Tomlinson for the Canadian government| ![roger_tomlinson](image_folder/Roger-Tomlinson.PNG)|\n",
    "|**1975 - 90, GIS Software Commercialization:** The development of the first computer map-making software by Harvard Laboratory Computer Graphics, and software commercialization by the consulting firm Environmental Systems Research Institute, Inc. (Esri)| ![GIS_commercial](image_folder/GIS-Software-Box.PNG)|\n",
    "|**1990 - 2010, User Proliferation:** Cheaper, faster and more powerful computers, multiple software options, data availability, launch of satellites and integration of remote sensing technology; enabling users to take full advantage of GIS and recognizing the importance of spatial analysis | ![interaction](image_folder/map-interaction.jpg)|\n",
    "|**2010 - Now, The Open Source Explosion:** Even better technologies, GIS data become accessible worldwide for free, more collaboration and commercialization of GIS products| ![open_source](image_folder/open-mapping.png)|\n",
    "\n",
    "Credit: GIS Geography (https://gisgeography.com/history-of-gis/)"
   ]
  },
  {
   "cell_type": "markdown",
   "metadata": {
    "slideshow": {
     "slide_type": "subslide"
    }
   },
   "source": [
    "## Motivation behind Geospatial Analysis"
   ]
  },
  {
   "cell_type": "markdown",
   "metadata": {
    "slideshow": {
     "slide_type": "fragment"
    }
   },
   "source": [
    "<font size=\"10\"><center>  **_\"MOBILITY\"_**  </center></font>\n",
    "\n",
    "* **Location intelligence** - _Deriving insights from location_\n",
    "* **Location-based marketing** - _Evaluating catchment areas_ \n",
    "* **Assessing accessibilities** - _Evaluating accessibility of an area_\n",
    "* **Travel Times** - _Goods transportation_"
   ]
  },
  {
   "cell_type": "markdown",
   "metadata": {
    "slideshow": {
     "slide_type": "notes"
    }
   },
   "source": [
    "* Location intelligence - _Deriving insights from location_ (https://www.forbes.com/sites/louiscolumbus/2018/02/11/what-new-in-location-intelligence-for-2018/?sh=42acc8b114b5)\n",
    "* Location-based marketing - _Evaluating catchment areas_ (https://www.simplybusiness.co.uk/knowledge/articles/2010/10/2010-10-25-what-starbucks-can-teach-your-business-about-location-based-marketing/)\n",
    "* Assessing accessibilities - _Evaluating accessibility of an area_ (https://www.walkscore.com/methodology.shtml)\n",
    "* Travel Times - _Goods transportation_"
   ]
  },
  {
   "cell_type": "markdown",
   "metadata": {
    "slideshow": {
     "slide_type": "fragment"
    }
   },
   "source": [
    "**Industry:** Geographic Information System (GIS)\n",
    "\n",
    "**Examples close to us:**\n",
    "\n",
    "* Navigation applications\n",
    "* Ministry of Health Malaysia\n",
    "\n",
    "**and not just limited by those, but also:**\n",
    "* Telco\n",
    "* Accident analysis\n",
    "* Urban planning\n",
    "* Environmental impact analysis\n",
    "* and many more! (https://nobelsystemsblog.com/gis-data-business/, https://gisgeography.com/what-gis-geographic-information-systems/)"
   ]
  },
  {
   "cell_type": "markdown",
   "metadata": {
    "slideshow": {
     "slide_type": "subslide"
    }
   },
   "source": [
    "## Travel Time Prediction"
   ]
  },
  {
   "cell_type": "markdown",
   "metadata": {
    "slideshow": {
     "slide_type": "fragment"
    }
   },
   "source": [
    "* Storing a complete travel time matrix - _Not practical!_\n",
    "* Creating a travel time prediction model - _From historical data_\n",
    "    * Source location\n",
    "    * Destination location\n",
    "    * Date"
   ]
  },
  {
   "cell_type": "markdown",
   "metadata": {
    "slideshow": {
     "slide_type": "subslide"
    }
   },
   "source": [
    "* **Data preparation**\n",
    "    * Subsetting\n",
    "    * Null values\n",
    "    * Feature Engineering (Logical & relevant)\n",
    "    * Visualization will be helpful\n",
    "\n",
    "* **Modelling**\n",
    "    * Machine learning models\n",
    "    * Assign random_state\n",
    "    \n",
    "* **Model Evaluation**\n",
    "    * RMSE\n",
    "    * Visualization will be helpful!"
   ]
  },
  {
   "cell_type": "markdown",
   "metadata": {
    "slideshow": {
     "slide_type": "fragment"
    }
   },
   "source": [
    "|||\n",
    "|:--:|:--:|\n",
    "|![map](image_folder/map.PNG)|![visualization_of_error](image_folder/random_forest_scatterplot.PNG)|"
   ]
  },
  {
   "cell_type": "markdown",
   "metadata": {
    "slideshow": {
     "slide_type": "slide"
    }
   },
   "source": [
    "# Competition Dataset"
   ]
  },
  {
   "cell_type": "markdown",
   "metadata": {
    "slideshow": {
     "slide_type": "subslide"
    }
   },
   "source": [
    "## Dataset Provided"
   ]
  },
  {
   "cell_type": "markdown",
   "metadata": {
    "slideshow": {
     "slide_type": "fragment"
    }
   },
   "source": [
    "1)\t**london.json**: The boundaries of London in geospatial (GeoJSON) format, including Zone IDs used in other dataset."
   ]
  },
  {
   "cell_type": "markdown",
   "metadata": {
    "slideshow": {
     "slide_type": "fragment"
    }
   },
   "source": [
    "![geojson](image_folder/dataset1.PNG)"
   ]
  },
  {
   "cell_type": "markdown",
   "metadata": {
    "slideshow": {
     "slide_type": "fragment"
    }
   },
   "source": [
    "![zones](image_folder/dataset2.PNG)\n",
    "Credit: GIS StackExchange (https://gis.stackexchange.com/questions/118223/merge-geojson-polygons-with-wgs84-coordinate)"
   ]
  },
  {
   "cell_type": "markdown",
   "metadata": {
    "ExecuteTime": {
     "end_time": "2021-09-05T07:09:16.028911Z",
     "start_time": "2021-09-05T07:09:16.014914Z"
    },
    "slideshow": {
     "slide_type": "subslide"
    }
   },
   "source": [
    "2)\t**training_WeeklyAggregate.csv**: Contains the arithmetic mean for aggregated travel times over the first quarter of 2020 between randomly selected zone pairs in London.\n",
    "-\tsourceid – Source location ID as per london.json\n",
    "-\tdstid – Destination location ID as per london.json\n",
    "-\tdow – Days of week, where 1: Monday, 2: Tuesday and so on.\n",
    "-\tmean_travel_time (label) - The average travel time as per the shortest distance travelled by car from its source location to destination on the particular day of week, in seconds."
   ]
  },
  {
   "cell_type": "markdown",
   "metadata": {
    "ExecuteTime": {
     "end_time": "2021-09-05T07:09:16.028911Z",
     "start_time": "2021-09-05T07:09:16.014914Z"
    },
    "slideshow": {
     "slide_type": "subslide"
    }
   },
   "source": [
    "3)\t**testing_dataset.csv**: Similar to training dataset but without labels.\n",
    "\n",
    "4)\t**sample_submission.csv**: An example of a submission file.\n"
   ]
  },
  {
   "cell_type": "markdown",
   "metadata": {
    "slideshow": {
     "slide_type": "subslide"
    }
   },
   "source": [
    "## Limitation of Dataset\n",
    "\n",
    "* Weekly-aggregated, with daily granularity\n",
    "* Period: Q1, 2020\n",
    "* Discrepancies with other web mapping platforms\n",
    "* Small dataset (does not cover all source and destination pairs)\n",
    "* Not date-specific\n",
    "* Aggregated by zones"
   ]
  },
  {
   "cell_type": "markdown",
   "metadata": {
    "slideshow": {
     "slide_type": "fragment"
    }
   },
   "source": [
    "![zones](image_folder/dataset2.PNG)\n",
    "Credit: GIS StackExchange (https://gis.stackexchange.com/questions/118223/merge-geojson-polygons-with-wgs84-coordinate)"
   ]
  },
  {
   "cell_type": "markdown",
   "metadata": {
    "slideshow": {
     "slide_type": "subslide"
    }
   },
   "source": [
    "The dataset used in this competition is strictly limited to only what is provided. No additional dataset should be used.\n",
    "\n",
    "You can submit your prediction result once per day throughout the entire period of competition - the organizing team will inform you on the RMSE value within 24 hours. At the final submission day, you are expected to submit both your final working codes (jupyter notebook) and the final prediction csv files.\n",
    "\n",
    "The organizing team will be inspecting your code to ensure reproducibility of your final submitted result."
   ]
  },
  {
   "cell_type": "code",
   "execution_count": 3,
   "metadata": {
    "ExecuteTime": {
     "end_time": "2021-10-03T03:27:06.618243Z",
     "start_time": "2021-10-03T03:27:06.609255Z"
    },
    "slideshow": {
     "slide_type": "subslide"
    }
   },
   "outputs": [],
   "source": [
    "import pandas"
   ]
  },
  {
   "cell_type": "markdown",
   "metadata": {
    "slideshow": {
     "slide_type": "slide"
    }
   },
   "source": [
    "# Q&A"
   ]
  }
 ],
 "metadata": {
  "celltoolbar": "Slideshow",
  "kernelspec": {
   "display_name": "Python [conda env:uber]",
   "language": "python",
   "name": "conda-env-uber-py"
  },
  "language_info": {
   "codemirror_mode": {
    "name": "ipython",
    "version": 3
   },
   "file_extension": ".py",
   "mimetype": "text/x-python",
   "name": "python",
   "nbconvert_exporter": "python",
   "pygments_lexer": "ipython3",
   "version": "3.8.8"
  },
  "toc": {
   "base_numbering": 1,
   "nav_menu": {},
   "number_sections": true,
   "sideBar": true,
   "skip_h1_title": false,
   "title_cell": "Table of Contents",
   "title_sidebar": "Contents",
   "toc_cell": false,
   "toc_position": {},
   "toc_section_display": true,
   "toc_window_display": false
  },
  "varInspector": {
   "cols": {
    "lenName": 16,
    "lenType": 16,
    "lenVar": 40
   },
   "kernels_config": {
    "python": {
     "delete_cmd_postfix": "",
     "delete_cmd_prefix": "del ",
     "library": "var_list.py",
     "varRefreshCmd": "print(var_dic_list())"
    },
    "r": {
     "delete_cmd_postfix": ") ",
     "delete_cmd_prefix": "rm(",
     "library": "var_list.r",
     "varRefreshCmd": "cat(var_dic_list()) "
    }
   },
   "types_to_exclude": [
    "module",
    "function",
    "builtin_function_or_method",
    "instance",
    "_Feature"
   ],
   "window_display": false
  }
 },
 "nbformat": 4,
 "nbformat_minor": 4
}
