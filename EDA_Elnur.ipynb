{
 "cells": [
  {
   "cell_type": "code",
   "execution_count": 1,
   "metadata": {
    "collapsed": true
   },
   "outputs": [],
   "source": [
    "import pandas as pd\n",
    "import numpy as np\n",
    "import matplotlib.pyplot as plt\n"
   ]
  },
  {
   "cell_type": "code",
   "execution_count": 2,
   "outputs": [],
   "source": [
    "df_json = pd.read_json('london.json')"
   ],
   "metadata": {
    "collapsed": false,
    "pycharm": {
     "name": "#%%\n"
    }
   }
  },
  {
   "cell_type": "code",
   "execution_count": 3,
   "outputs": [
    {
     "data": {
      "text/plain": "                type                                           features\n0  FeatureCollection  {'type': 'Feature', 'geometry': {'type': 'Mult...\n1  FeatureCollection  {'type': 'Feature', 'geometry': {'type': 'Mult...\n2  FeatureCollection  {'type': 'Feature', 'geometry': {'type': 'Mult...\n3  FeatureCollection  {'type': 'Feature', 'geometry': {'type': 'Mult...\n4  FeatureCollection  {'type': 'Feature', 'geometry': {'type': 'Mult...",
      "text/html": "<div>\n<style scoped>\n    .dataframe tbody tr th:only-of-type {\n        vertical-align: middle;\n    }\n\n    .dataframe tbody tr th {\n        vertical-align: top;\n    }\n\n    .dataframe thead th {\n        text-align: right;\n    }\n</style>\n<table border=\"1\" class=\"dataframe\">\n  <thead>\n    <tr style=\"text-align: right;\">\n      <th></th>\n      <th>type</th>\n      <th>features</th>\n    </tr>\n  </thead>\n  <tbody>\n    <tr>\n      <th>0</th>\n      <td>FeatureCollection</td>\n      <td>{'type': 'Feature', 'geometry': {'type': 'Mult...</td>\n    </tr>\n    <tr>\n      <th>1</th>\n      <td>FeatureCollection</td>\n      <td>{'type': 'Feature', 'geometry': {'type': 'Mult...</td>\n    </tr>\n    <tr>\n      <th>2</th>\n      <td>FeatureCollection</td>\n      <td>{'type': 'Feature', 'geometry': {'type': 'Mult...</td>\n    </tr>\n    <tr>\n      <th>3</th>\n      <td>FeatureCollection</td>\n      <td>{'type': 'Feature', 'geometry': {'type': 'Mult...</td>\n    </tr>\n    <tr>\n      <th>4</th>\n      <td>FeatureCollection</td>\n      <td>{'type': 'Feature', 'geometry': {'type': 'Mult...</td>\n    </tr>\n  </tbody>\n</table>\n</div>"
     },
     "execution_count": 3,
     "metadata": {},
     "output_type": "execute_result"
    }
   ],
   "source": [
    "df_json.head(5)"
   ],
   "metadata": {
    "collapsed": false,
    "pycharm": {
     "name": "#%%\n"
    }
   }
  },
  {
   "cell_type": "code",
   "execution_count": null,
   "outputs": [],
   "source": [],
   "metadata": {
    "collapsed": false,
    "pycharm": {
     "name": "#%%\n"
    }
   }
  }
 ],
 "metadata": {
  "kernelspec": {
   "display_name": "Python 3",
   "language": "python",
   "name": "python3"
  },
  "language_info": {
   "codemirror_mode": {
    "name": "ipython",
    "version": 2
   },
   "file_extension": ".py",
   "mimetype": "text/x-python",
   "name": "python",
   "nbconvert_exporter": "python",
   "pygments_lexer": "ipython2",
   "version": "2.7.6"
  }
 },
 "nbformat": 4,
 "nbformat_minor": 0
}